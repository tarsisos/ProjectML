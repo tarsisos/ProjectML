{
 "cells": [
  {
   "cell_type": "code",
   "execution_count": 1,
   "id": "cfb44b76",
   "metadata": {},
   "outputs": [],
   "source": [
    "# Lib para Banco de Dados\n",
    "import sqlite3"
   ]
  },
  {
   "cell_type": "code",
   "execution_count": 2,
   "id": "41c993f9",
   "metadata": {},
   "outputs": [],
   "source": [
    "# Criar o banco [caso exista faz a conexao else conecta no banco]\n",
    "Conexao_Banco = sqlite3.connect('Banco_Dados_API.db')"
   ]
  },
  {
   "cell_type": "code",
   "execution_count": 3,
   "id": "82c3bd25",
   "metadata": {},
   "outputs": [],
   "source": [
    "# Apontar para o banco\n",
    "Cursor = Conexao_Banco.cursor()"
   ]
  },
  {
   "cell_type": "code",
   "execution_count": 4,
   "id": "f77cfc8b",
   "metadata": {},
   "outputs": [
    {
     "ename": "OperationalError",
     "evalue": "table Log_API already exists",
     "output_type": "error",
     "traceback": [
      "\u001b[1;31m---------------------------------------------------------------------------\u001b[0m",
      "\u001b[1;31mOperationalError\u001b[0m                          Traceback (most recent call last)",
      "\u001b[1;32mc:\\Users\\tarsi\\Documents\\Projeto_ML\\Criacao_Banco_Dados.ipynb Célula: 4\u001b[0m in \u001b[0;36m<cell line: 15>\u001b[1;34m()\u001b[0m\n\u001b[0;32m      <a href='vscode-notebook-cell:/c%3A/Users/tarsi/Documents/Projeto_ML/Criacao_Banco_Dados.ipynb#W3sZmlsZQ%3D%3D?line=2'>3</a>\u001b[0m Query_Criar_Banco \u001b[39m=\u001b[39m \u001b[39m'''\u001b[39m\n\u001b[0;32m      <a href='vscode-notebook-cell:/c%3A/Users/tarsi/Documents/Projeto_ML/Criacao_Banco_Dados.ipynb#W3sZmlsZQ%3D%3D?line=3'>4</a>\u001b[0m \u001b[39mCREATE TABLE Log_API (\u001b[39m\n\u001b[0;32m      <a href='vscode-notebook-cell:/c%3A/Users/tarsi/Documents/Projeto_ML/Criacao_Banco_Dados.ipynb#W3sZmlsZQ%3D%3D?line=4'>5</a>\u001b[0m \u001b[39m    id INTEGER NOT NULL PRIMARY KEY AUTOINCREMENT,\u001b[39m\n\u001b[1;32m   (...)\u001b[0m\n\u001b[0;32m     <a href='vscode-notebook-cell:/c%3A/Users/tarsi/Documents/Projeto_ML/Criacao_Banco_Dados.ipynb#W3sZmlsZQ%3D%3D?line=10'>11</a>\u001b[0m \n\u001b[0;32m     <a href='vscode-notebook-cell:/c%3A/Users/tarsi/Documents/Projeto_ML/Criacao_Banco_Dados.ipynb#W3sZmlsZQ%3D%3D?line=11'>12</a>\u001b[0m \u001b[39m'''\u001b[39m\n\u001b[0;32m     <a href='vscode-notebook-cell:/c%3A/Users/tarsi/Documents/Projeto_ML/Criacao_Banco_Dados.ipynb#W3sZmlsZQ%3D%3D?line=13'>14</a>\u001b[0m \u001b[39m# Executando a Query\u001b[39;00m\n\u001b[1;32m---> <a href='vscode-notebook-cell:/c%3A/Users/tarsi/Documents/Projeto_ML/Criacao_Banco_Dados.ipynb#W3sZmlsZQ%3D%3D?line=14'>15</a>\u001b[0m Cursor\u001b[39m.\u001b[39;49mexecute( Query_Criar_Banco )\n",
      "\u001b[1;31mOperationalError\u001b[0m: table Log_API already exists"
     ]
    }
   ],
   "source": [
    "# Query --> Criar uma tabela\n",
    "\n",
    "Query_Criar_Banco = '''\n",
    "CREATE TABLE Log_API (\n",
    "    id INTEGER NOT NULL PRIMARY KEY AUTOINCREMENT,\n",
    "    Inputs TEXT,\n",
    "    Inicio TEXT,\n",
    "    Fim TEXT,\n",
    "    Processamento TEXT\n",
    ")\n",
    "\n",
    "'''\n",
    "\n",
    "# Executando a Query\n",
    "Cursor.execute( Query_Criar_Banco )"
   ]
  },
  {
   "cell_type": "code",
   "execution_count": null,
   "id": "d417a2ec",
   "metadata": {},
   "outputs": [],
   "source": [
    "# Query --> Inserir informação\n",
    "\n",
    "Query_Inserir = '''\n",
    "\n",
    "    INSERT INTO Log_API( Inputs, Inicio, Fim, Processamento )\n",
    "    VALUES ('480;4;5;3;0;1;0;0;742', '01/01/2000 19:00:01', '01/01/2000 19:00:02', '00:01')\n",
    "\n",
    "'''\n",
    "\n",
    "# Executando a Query\n",
    "Cursor.execute( Query_Inserir )\n",
    "\n",
    "# Commit\n",
    "Conexao_Banco.commit()"
   ]
  },
  {
   "cell_type": "code",
   "execution_count": 5,
   "id": "af0961ab",
   "metadata": {},
   "outputs": [
    {
     "data": {
      "text/plain": [
       "[(1,\n",
       "  '480;4;5;3;0;1;0;0;742',\n",
       "  '01/01/2000 19:00:01',\n",
       "  '01/01/2000 19:00:02',\n",
       "  '00:01'),\n",
       " (2,\n",
       "  '480;4;5;3;0;1;0;0;742',\n",
       "  '01/01/2000 19:00:01',\n",
       "  '01/01/2000 19:00:02',\n",
       "  '00:01'),\n",
       " (3,\n",
       "  ';480.0;4.0;5.0;3.0;0.0;1.0;0.0;0.0;742.0;[9027.72770292]',\n",
       "  '2022-10-11 20:42:39.856374',\n",
       "  '2022-10-11 20:42:39.891377',\n",
       "  '0:00:00.035003'),\n",
       " (4,\n",
       "  ';550.0;4.0;5.0;3.0;0.0;1.0;0.0;0.0;742.0;[9144.44861984]',\n",
       "  '2022-10-11 20:44:19.644581',\n",
       "  '2022-10-11 20:44:19.686573',\n",
       "  '0:00:00.041992'),\n",
       " (5,\n",
       "  ';80.0;4.0;5.0;3.0;0.0;1.0;0.0;0.0;742.0;[2418.78464678]',\n",
       "  '2022-10-11 21:35:01.485646',\n",
       "  '2022-10-11 21:35:01.542645',\n",
       "  '0:00:00.056999'),\n",
       " (6,\n",
       "  ';40.0;4.0;5.0;3.0;0.0;1.0;0.0;0.0;742.0;[2226.99093052]',\n",
       "  '2022-10-19 10:51:28.473947',\n",
       "  '2022-10-19 10:51:28.617946',\n",
       "  '0:00:00.143999'),\n",
       " (7,\n",
       "  ';80.0;4.0;5.0;5.0;0.0;1.0;0.0;0.0;742.0;[2551.01656071]',\n",
       "  '2022-10-19 10:56:26.032523',\n",
       "  '2022-10-19 10:56:26.072527',\n",
       "  '0:00:00.040004'),\n",
       " (8,\n",
       "  ';40.0;4.0;5.0;5.0;0.0;1.0;0.0;0.0;742.0;[2359.22284445]',\n",
       "  '2022-10-19 10:56:39.026316',\n",
       "  '2022-10-19 10:56:39.215227',\n",
       "  '0:00:00.188911'),\n",
       " (9,\n",
       "  ';80.0;4.0;5.0;5.0;0.0;1.0;0.0;0.0;742.0;[2551.01656071]',\n",
       "  '2022-10-19 10:56:49.459520',\n",
       "  '2022-10-19 10:56:49.481513',\n",
       "  '0:00:00.021993')]"
      ]
     },
     "execution_count": 5,
     "metadata": {},
     "output_type": "execute_result"
    }
   ],
   "source": [
    "# Query --> Consulta\n",
    "\n",
    "Query_Consulta = '''\n",
    "\n",
    "    SELECT * FROM Log_API\n",
    "\n",
    "'''\n",
    "\n",
    "# Executando a Query\n",
    "Cursor.execute( Query_Consulta ).fetchall()"
   ]
  },
  {
   "cell_type": "code",
   "execution_count": null,
   "id": "88bdb34f",
   "metadata": {},
   "outputs": [],
   "source": []
  }
 ],
 "metadata": {
  "kernelspec": {
   "display_name": "Python 3.10.6 64-bit",
   "language": "python",
   "name": "python3"
  },
  "language_info": {
   "codemirror_mode": {
    "name": "ipython",
    "version": 3
   },
   "file_extension": ".py",
   "mimetype": "text/x-python",
   "name": "python",
   "nbconvert_exporter": "python",
   "pygments_lexer": "ipython3",
   "version": "3.10.6"
  },
  "vscode": {
   "interpreter": {
    "hash": "52634da84371cba311ea128a5ea7cdc41ff074b781779e754b270ff9f8153cee"
   }
  }
 },
 "nbformat": 4,
 "nbformat_minor": 5
}
